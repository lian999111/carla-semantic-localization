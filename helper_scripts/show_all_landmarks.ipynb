{
 "metadata": {
  "language_info": {
   "codemirror_mode": {
    "name": "ipython",
    "version": 3
   },
   "file_extension": ".py",
   "mimetype": "text/x-python",
   "name": "python",
   "nbconvert_exporter": "python",
   "pygments_lexer": "ipython3",
   "version": "3.7.9-final"
  },
  "orig_nbformat": 2,
  "kernelspec": {
   "name": "python3",
   "display_name": "Python 3",
   "language": "python"
  }
 },
 "nbformat": 4,
 "nbformat_minor": 2,
 "cells": [
  {
   "cell_type": "code",
   "execution_count": 38,
   "metadata": {},
   "outputs": [],
   "source": [
    "import glob\n",
    "import os\n",
    "import datetime\n",
    "import sys\n",
    "import argparse\n",
    "from math import pi\n",
    "from shutil import copyfile\n",
    "\n",
    "import yaml\n",
    "from carlasim.data_collect import World, IMU, GNSS, SemanticCamera, DepthCamera\n",
    "from carlasim.record import SequentialRecorder, StaticAndSequentialRecorder\n",
    "\n",
    "try:\n",
    "    sys.path.append(glob.glob('./carla-*%d.%d-%s.egg' % (\n",
    "        sys.version_info.major,\n",
    "        sys.version_info.minor,\n",
    "        'win-amd64' if os.name == 'nt' else 'linux-x86_64'))[0])\n",
    "except IndexError:\n",
    "    pass\n",
    "import carla"
   ]
  },
  {
   "cell_type": "code",
   "execution_count": 39,
   "metadata": {},
   "outputs": [],
   "source": [
    "client = carla.Client('localhost', 2000)\n",
    "client.set_timeout(5.0)"
   ]
  },
  {
   "cell_type": "code",
   "execution_count": 40,
   "metadata": {},
   "outputs": [],
   "source": [
    "carla_world = client.load_world('Town03')\n",
    "carla_map = carla_world.get_map()\n",
    "all_landmarks = carla_map.get_all_landmarks()"
   ]
  },
  {
   "cell_type": "code",
   "execution_count": 41,
   "metadata": {},
   "outputs": [],
   "source": [
    "debug = carla_world.debug"
   ]
  },
  {
   "cell_type": "code",
   "execution_count": 43,
   "metadata": {},
   "outputs": [
    {
     "output_type": "stream",
     "name": "stdout",
     "text": [
      "OpenDRIVE\n206\nOpenDRIVE\n206\nOpenDRIVE\n206\nOpenDRIVE\n1000001\nOpenDRIVE\n1000001\nOpenDRIVE\n1000001\nOpenDRIVE\n1000001\nOpenDRIVE\n1000001\nOpenDRIVE\n1000001\nOpenDRIVE\n1000001\nOpenDRIVE\n1000001\nOpenDRIVE\n1000001\nOpenDRIVE\n1000001\nOpenDRIVE\n1000001\nOpenDRIVE\n1000001\nOpenDRIVE\n1000001\nOpenDRIVE\n1000001\nOpenDRIVE\n1000001\nOpenDRIVE\n1000001\nOpenDRIVE\n1000001\nOpenDRIVE\n206\nOpenDRIVE\n1000001\nOpenDRIVE\n1000001\nOpenDRIVE\n1000001\nOpenDRIVE\n1000001\nOpenDRIVE\n1000001\nOpenDRIVE\n1000001\nOpenDRIVE\n1000001\nOpenDRIVE\n1000001\nOpenDRIVE\n1000001\nOpenDRIVE\n1000001\nOpenDRIVE\n1000001\nOpenDRIVE\n1000001\nOpenDRIVE\n1000001\nOpenDRIVE\n1000001\nOpenDRIVE\n1000001\nOpenDRIVE\n1000001\nOpenDRIVE\n1000001\nOpenDRIVE\n1000001\nOpenDRIVE\n1000001\nOpenDRIVE\n1000001\nOpenDRIVE\n1000001\nOpenDRIVE\n1000001\nOpenDRIVE\n1000001\nOpenDRIVE\n1000001\nOpenDRIVE\n206\nOpenDRIVE\n1000001\nOpenDRIVE\n1000001\nOpenDRIVE\n206\nOpenDRIVE\n1000001\nOpenDRIVE\n206\nOpenDRIVE\n1000001\nOpenDRIVE\n1000001\nOpenDRIVE\n1000001\nOpenDRIVE\n1000001\nOpenDRIVE\n1000001\nOpenDRIVE\n1000001\nOpenDRIVE\n1000001\nOpenDRIVE\n274\nOpenDRIVE\n1000001\nOpenDRIVE\n1000001\nOpenDRIVE\n274\nOpenDRIVE\n274\nOpenDRIVE\n274\nOpenDRIVE\n274\nOpenDRIVE\n274\nOpenDRIVE\n1000001\nOpenDRIVE\n1000001\nOpenDRIVE\n206\nOpenDRIVE\n206\nOpenDRIVE\n1000001\nOpenDRIVE\n1000001\nOpenDRIVE\n1000001\nOpenDRIVE\n1000001\nOpenDRIVE\n1000001\nOpenDRIVE\n1000001\nOpenDRIVE\n1000001\nOpenDRIVE\n1000001\nOpenDRIVE\n1000001\nOpenDRIVE\n1000001\nOpenDRIVE\n206\nOpenDRIVE\n1000001\nOpenDRIVE\n1000001\nOpenDRIVE\n1000001\nOpenDRIVE\n1000001\nOpenDRIVE\n206\nOpenDRIVE\n1000001\nOpenDRIVE\n1000001\nOpenDRIVE\n1000001\nOpenDRIVE\n1000001\nOpenDRIVE\n206\nOpenDRIVE\n1000001\nOpenDRIVE\n1000001\nOpenDRIVE\n206\nOpenDRIVE\n206\nOpenDRIVE\n1000001\nOpenDRIVE\n206\nOpenDRIVE\n206\nOpenDRIVE\n1000001\nOpenDRIVE\n206\nOpenDRIVE\n206\nOpenDRIVE\n1000001\nOpenDRIVE\n1000001\nOpenDRIVE\n1000001\nOpenDRIVE\n1000001\nOpenDRIVE\n1000001\nOpenDRIVE\n1000001\nOpenDRIVE\n1000001\nOpenDRIVE\n1000001\nOpenDRIVE\n1000001\nOpenDRIVE\n1000001\nOpenDRIVE\n1000001\nOpenDRIVE\n1000001\nOpenDRIVE\n1000001\nOpenDRIVE\n1000001\nOpenDRIVE\n1000001\nOpenDRIVE\n1000001\nOpenDRIVE\n1000001\nOpenDRIVE\n1000001\nOpenDRIVE\n1000001\nOpenDRIVE\n1000001\nOpenDRIVE\n206\nOpenDRIVE\n1000001\nOpenDRIVE\n1000001\nOpenDRIVE\n206\nOpenDRIVE\n1000001\nOpenDRIVE\n1000001\nOpenDRIVE\n1000001\nOpenDRIVE\n1000001\nOpenDRIVE\n1000001\nOpenDRIVE\n1000001\nOpenDRIVE\n1000001\nOpenDRIVE\n1000001\nOpenDRIVE\n206\nOpenDRIVE\n1000001\nOpenDRIVE\n1000001\nOpenDRIVE\n1000001\nOpenDRIVE\n1000001\nOpenDRIVE\n1000001\nOpenDRIVE\n1000001\nOpenDRIVE\n1000001\nOpenDRIVE\n1000001\nOpenDRIVE\n1000001\nOpenDRIVE\n1000001\nOpenDRIVE\n1000001\nOpenDRIVE\n1000001\nOpenDRIVE\n1000001\nOpenDRIVE\n1000001\nOpenDRIVE\n1000001\nOpenDRIVE\n1000001\nOpenDRIVE\n1000001\nOpenDRIVE\n1000001\nOpenDRIVE\n1000001\nOpenDRIVE\n1000001\nOpenDRIVE\n1000001\nOpenDRIVE\n1000001\nOpenDRIVE\n1000001\nOpenDRIVE\n206\nOpenDRIVE\n1000001\nOpenDRIVE\n1000001\nOpenDRIVE\n1000001\nOpenDRIVE\n1000001\nOpenDRIVE\n1000001\nOpenDRIVE\n1000001\nOpenDRIVE\n1000001\nOpenDRIVE\n1000001\nOpenDRIVE\n1000001\nOpenDRIVE\n1000001\nOpenDRIVE\n1000001\nOpenDRIVE\n1000001\nOpenDRIVE\n1000001\nOpenDRIVE\n1000001\nOpenDRIVE\n1000001\nOpenDRIVE\n1000001\nOpenDRIVE\n1000001\nOpenDRIVE\n1000001\nOpenDRIVE\n1000001\nOpenDRIVE\n1000001\n"
     ]
    }
   ],
   "source": [
    "for landmark in all_landmarks:\n",
    "    print(landmark.country)\n",
    "    print(landmark.type)\n",
    "    carla_tform = landmark.transform\n",
    "    lm_loc = carla_tform.location\n",
    "\n",
    "    if landmark.type == '206':\n",
    "        closest_waypt = carla_map.get_waypoint(lm_loc)\n",
    "\n",
    "        # If the stop sign is within 1.2 meter from the closest waypoint, \n",
    "        # it is most likely on the road surface.\n",
    "        # Use the road surface stop sign as a stop line\n",
    "        if lm_loc.distance(closest_waypt.transform.location) < 1.2:\n",
    "            carla_world.debug.draw_arrow(\n",
    "                lm_loc, lm_loc + carla.Location(z=50))\n",
    "\n",
    "            # Draw orientation\n",
    "            carla_tform = landmark.transform\n",
    "            arrow_tip = carla.Location(x=5)\n",
    "            carla_tform.transform(arrow_tip)\n",
    "            carla_world.debug.draw_arrow(\n",
    "                lm_loc, arrow_tip)\n",
    "        else:\n",
    "            carla_world.debug.draw_arrow(\n",
    "                lm_loc, lm_loc + carla.Location(z=50), color=carla.Color(0, 255, 0))\n",
    "    elif landmark.type == '205':\n",
    "        # Yield sign\n",
    "        debug.draw_line(lm_loc, lm_loc + carla.Location(z=50), color=carla.Color(0,255,0))\n",
    "    elif landmark.type == '274':\n",
    "        # Speed limit\n",
    "        debug.draw_line(lm_loc, lm_loc + carla.Location(z=50), color=carla.Color(0,0,255))\n",
    "    elif landmark.type == '1000001':\n",
    "        # Traffic light\n",
    "        debug.draw_line(lm_loc, lm_loc + carla.Location(z=50), color=carla.Color(255,255,0))\n",
    "    else:\n",
    "        debug.draw_line(lm_loc, lm_loc + carla.Location(z=50), color=carla.Color(0,0,0))"
   ]
  },
  {
   "cell_type": "code",
   "execution_count": null,
   "metadata": {},
   "outputs": [],
   "source": []
  }
 ]
}